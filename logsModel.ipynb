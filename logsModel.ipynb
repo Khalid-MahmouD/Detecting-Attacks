{
 "cells": [
  {
   "cell_type": "markdown",
   "id": "ca69cb74",
   "metadata": {},
   "source": [
    "## importing libraries\n",
    "* numpy  ->(datastructure, vectorization, indexing(slices, steps), broadcasting(multiplication), indexing, reducing)\n",
    "\n",
    "* pandas ->(data manipulation and analysis)\n",
    "\n",
    "* tensorflow.keras    -> (interface for artificial neural networks)\n",
    "\n",
    "* matplotlib creating -> (static, animated, and interactive visualizations)\n"
   ]
  },
  {
   "cell_type": "code",
   "execution_count": 2,
   "id": "d2058399",
   "metadata": {},
   "outputs": [],
   "source": [
    "#import relevant modules\n",
    "import numpy as np\n",
    "import pandas as pd\n",
    "import tensorflow as tf\n",
    "from tensorflow.keras import layers\n",
    "from matplotlib import pyplot as plt\n",
    "from tensorflow.keras.layers import Dense\n",
    "from tensorflow.keras.layers import Dense\n",
    "\n",
    "# The following lines adjust the granularity of reporting. \n",
    "pd.options.display.max_rows = 10\n",
    "pd.options.display.float_format = \"{:.1f}\".format\n",
    "\n",
    "# The following line improves formatting when ouputting NumPy arrays.\n",
    "np.set_printoptions(linewidth = 200)"
   ]
  },
  {
   "cell_type": "markdown",
   "id": "9005bf49",
   "metadata": {},
   "source": [
    "## Reading Dataset\n",
    "* X1 to X11\n",
    "\n",
    "* y1 and y3\n",
    "\n",
    "### Encoding independent output\n",
    "\n",
    "* allow will be 1 and have the largest weight\n",
    "\n",
    "* rest_both will be neglected\n",
    "\n",
    "* deny and drop will be the same weight as 0 standing for suspicious behavior\n"
   ]
  },
  {
   "cell_type": "code",
   "execution_count": 3,
   "id": "919a4c27",
   "metadata": {
    "scrolled": true
   },
   "outputs": [],
   "source": [
    "#dataset\n",
    "dataset = pd.read_csv('log2.csv')\n",
    "dataset.value_counts('Action')\n",
    "dataset[\"Action\"] = dataset[\"Action\"].map({\"allow\": 1, \"deny\": 2, \"drop\":3})\n",
    "dataset =dataset.dropna()\n",
    "dataset =dataset.drop_duplicates()\n",
    "dataset.values.flatten()\n",
    "#dataset['Action'] = np.where(dataset['Action'] == 'allow', 1, 0) #encoding independent output\n",
    "X = dataset.iloc[:, :-1].values\n",
    "y = dataset.iloc[:, -1].values"
   ]
  },
  {
   "cell_type": "code",
   "execution_count": 4,
   "id": "3b647192",
   "metadata": {},
   "outputs": [
    {
     "data": {
      "text/plain": [
       "Action\n",
       "1.0    37439\n",
       "3.0    11635\n",
       "2.0     8042\n",
       "dtype: int64"
      ]
     },
     "execution_count": 4,
     "metadata": {},
     "output_type": "execute_result"
    }
   ],
   "source": [
    "dataset.value_counts('Action')"
   ]
  },
  {
   "cell_type": "raw",
   "id": "2a76e425",
   "metadata": {},
   "source": [
    "#Encoding data\n",
    "dummies = pd.get_dummies(dataset.Action)  \n",
    "merged = pd.concat([dataset,dummies],axis=1)\n",
    "final = merged.drop(['Action'], axis=1)"
   ]
  },
  {
   "cell_type": "markdown",
   "id": "135c7de3",
   "metadata": {},
   "source": [
    "# Spliting Data-up \n",
    "* test_sitze = 0.2 means that we split data with 80% training and 20% testing\n",
    "* random_state = 0 means we split data with random picking not sequential"
   ]
  },
  {
   "cell_type": "code",
   "execution_count": 5,
   "id": "8d733ec8",
   "metadata": {},
   "outputs": [],
   "source": [
    "from sklearn.model_selection import train_test_split\n",
    "X_train, X_test, y_train, y_test = train_test_split(X, y, test_size = 0.2, random_state = 0)"
   ]
  },
  {
   "cell_type": "markdown",
   "id": "a64d811d",
   "metadata": {},
   "source": [
    "## Performing Feature Scalling\n",
    "* As you can see in the dataset, all values are not in the same range,  and that requires a lot of time for calculation. So to    overcome this problem, we perform feature scaling.\n",
    "\n",
    "\n",
    "* Feature scaling help us to normalize the data within a particular range."
   ]
  },
  {
   "cell_type": "code",
   "execution_count": 6,
   "id": "81bfbe16",
   "metadata": {},
   "outputs": [],
   "source": [
    "from sklearn.preprocessing import StandardScaler\n",
    "sc = StandardScaler()\n",
    "X_train_normalized = sc.fit_transform(X_train)\n",
    "X_test_normalized = sc.fit_transform(X_test)"
   ]
  },
  {
   "cell_type": "markdown",
   "id": "77f0cf1e",
   "metadata": {},
   "source": [
    "## function for plot accurcy history over training \n",
    "* for each epoch we store the value\n",
    "* x-axis Epoch\n",
    "* y-axis Value the model got"
   ]
  },
  {
   "cell_type": "code",
   "execution_count": 7,
   "id": "c79490da",
   "metadata": {},
   "outputs": [
    {
     "name": "stdout",
     "output_type": "stream",
     "text": [
      "Loaded the plot_curve function.\n"
     ]
    }
   ],
   "source": [
    "def plot_curve(epochs, hist, list_of_metrics):\n",
    "    plt.figure()\n",
    "    plt.xlabel(\"Epoch\")\n",
    "    plt.ylabel(\"Value\")\n",
    "    for m in list_of_metrics:\n",
    "        x = hist[m]\n",
    "        plt.plot(epochs[1:], x[1:], label=m)\n",
    "    \n",
    "    plt.legend()\n",
    "\n",
    "print(\"Loaded the plot_curve function.\")"
   ]
  },
  {
   "cell_type": "markdown",
   "id": "8181a465",
   "metadata": {},
   "source": [
    "## Create a Deep Neural Net Model\n",
    "\n",
    "* input 11 unites, for 11 features we have in Dataset\n",
    "* hidden 150 unites estimated for better performance\n",
    "* output 3 unites we have [100], [010], [001] three labes index of 1 will define the target"
   ]
  },
  {
   "cell_type": "code",
   "execution_count": 25,
   "id": "50a26ea5",
   "metadata": {},
   "outputs": [],
   "source": [
    "def create_model(my_learning_rate):\n",
    "    '''\n",
    "    keras.layers.Dense(units=11, kernel_initializer='normal', activation='relu'),\n",
    "    keras.layers.Dense(units=150, activation='relu'),\n",
    "    tf.keras.layers.BatchNormalization(),\n",
    "    keras.layers.Dense(10, activation=\"softmax\")\n",
    "    '''\n",
    "    model = tf.keras.models.Sequential([\n",
    "        keras.layers.Dense(units=11, kernel_initializer='normal', activation='relu'),\n",
    "        keras.layers.Dense(units=150, activation='relu'),\n",
    "        tf.keras.layers.BatchNormalization(),\n",
    "        tf.keras.layers.Dropout(rate=0.2),\n",
    "        keras.layers.Dense(4, activation=\"softmax\")\n",
    "        ])\n",
    "  \n",
    "  # Define the input layer and first hidden layer.\n",
    "    #model.add(Dense(units=11, kernel_initializer='normal', activation='relu'))\n",
    "    \n",
    "    #model.add(Dense(units=150, activation='relu'))\n",
    "# Define the input layer and first hidden layer.\n",
    "    #model.add(Dense(units=100, activation='relu'))\n",
    "  # Define a dropout regularization layer.\n",
    "    #keras.layers.Dense(units=150, activation='relu'),\n",
    "\n",
    "    #model.add(tf.keras.layers.BatchNormalization())\n",
    "    #model.add(tf.keras.layers.Dropout(rate=0.2))\n",
    "        #tf.keras.layers.BatchNormalization()\n",
    "        #tf.keras.layers.Dropout(rate=0.2)\n",
    "  # Define the output layer. \n",
    "    #model.add(tf.keras.layers.Dense(units=4, activation='softmax'))\n",
    "        #keras.layers.Dense(10, activation=\"softmax\")\n",
    "        #])\n",
    "                           \n",
    "  # Construct the layers into a model that TensorFlow can execute.\n",
    "    model.compile(optimizer ='adam', loss = 'sparse_categorical_crossentropy', metrics = ['accuracy'])\n",
    "    return model"
   ]
  },
  {
   "cell_type": "code",
   "execution_count": 26,
   "id": "82472747",
   "metadata": {},
   "outputs": [],
   "source": [
    "def train_model(model, train_features, train_label, epochs,\n",
    "                batch_size, validation_split):\n",
    "    \n",
    "    history = model.fit(train_features, train_label, batch_size,\n",
    "                      epochs=epochs, \n",
    "                      validation_split=validation_split,\n",
    "                      verbose=1)\n",
    "        \n",
    "  # To track the progression of training, gather a snapshot\n",
    "  # of the model's metrics at each epoch. \n",
    "    epochs = history.epoch\n",
    "    hist = pd.DataFrame(history.history)\n",
    "    return epochs, hist "
   ]
  },
  {
   "cell_type": "markdown",
   "id": "a9e083fd",
   "metadata": {},
   "source": [
    "# calling the prev function and define hyperparameters"
   ]
  },
  {
   "cell_type": "code",
   "execution_count": 27,
   "id": "b7e62af6",
   "metadata": {},
   "outputs": [],
   "source": [
    "from tensorflow import keras"
   ]
  },
  {
   "cell_type": "code",
   "execution_count": 28,
   "id": "aba087e4",
   "metadata": {},
   "outputs": [
    {
     "name": "stdout",
     "output_type": "stream",
     "text": [
      "Epoch 1/5\n",
      "3656/3656 [==============================] - 14s 4ms/step - loss: 0.0965 - accuracy: 0.9742 - val_loss: 0.0366 - val_accuracy: 0.9952\n",
      "Epoch 2/5\n",
      "3656/3656 [==============================] - 13s 4ms/step - loss: 0.0514 - accuracy: 0.9889 - val_loss: 0.0298 - val_accuracy: 0.9943\n",
      "Epoch 3/5\n",
      "3656/3656 [==============================] - 13s 4ms/step - loss: 0.0484 - accuracy: 0.9900 - val_loss: 0.0303 - val_accuracy: 0.9939\n",
      "Epoch 4/5\n",
      "3656/3656 [==============================] - 13s 4ms/step - loss: 0.0434 - accuracy: 0.9912 - val_loss: 0.0277 - val_accuracy: 0.9952\n",
      "Epoch 5/5\n",
      "3656/3656 [==============================] - 17s 5ms/step - loss: 0.0456 - accuracy: 0.9905 - val_loss: 0.0245 - val_accuracy: 0.9951\n",
      "\n",
      " Evaluate the new model against the test set:\n",
      "1143/1143 [==============================] - 3s 3ms/step - loss: 0.0375 - accuracy: 0.9941\n"
     ]
    },
    {
     "data": {
      "text/plain": [
       "[0.03753313794732094, 0.9941351413726807]"
      ]
     },
     "execution_count": 28,
     "metadata": {},
     "output_type": "execute_result"
    },
    {
     "data": {
      "image/png": "[encoded data removed]",
      "text/plain": [
       "<Figure size 432x288 with 1 Axes>"
      ]
     },
     "metadata": {
      "needs_background": "light"
     },
     "output_type": "display_data"
    }
   ],
   "source": [
    "#hyperparameters\n",
    "learning_rate = 0.003 #\n",
    "epochs = 5\n",
    "batch_size = 10 #\n",
    "validation_split = 0.2 #\n",
    "\n",
    "# Establish the model's topography.\n",
    "my_model = create_model(learning_rate)\n",
    "\n",
    "# Train the model on the normalized training set.\n",
    "epochs, hist = train_model(my_model, X_train_normalized, y_train, \n",
    "                           epochs, batch_size, validation_split)\n",
    "# Plot a graph of the metric vs. epochs.\n",
    "list_of_metrics_to_plot = ['accuracy']\n",
    "plot_curve(epochs, hist, list_of_metrics_to_plot)\n",
    "\n",
    "# Evaluate against the test set.\n",
    "print(\"\\n Evaluate the new model against the test set:\")\n",
    "my_model.evaluate(x=X_test_normalized, y=y_test, batch_size=batch_size)"
   ]
  },
  {
   "cell_type": "code",
   "execution_count": 29,
   "id": "2530f7c3",
   "metadata": {},
   "outputs": [
    {
     "name": "stdout",
     "output_type": "stream",
     "text": [
      "Model: \"sequential_3\"\n",
      "_________________________________________________________________\n",
      " Layer (type)                Output Shape              Param #   \n",
      "=================================================================\n",
      " dense_9 (Dense)             (None, 11)                132       \n",
      "                                                                 \n",
      " dense_10 (Dense)            (None, 150)               1800      \n",
      "                                                                 \n",
      " batch_normalization_3 (Batc  (None, 150)              600       \n",
      " hNormalization)                                                 \n",
      "                                                                 \n",
      " dropout_3 (Dropout)         (None, 150)               0         \n",
      "                                                                 \n",
      " dense_11 (Dense)            (None, 4)                 604       \n",
      "                                                                 \n",
      "=================================================================\n",
      "Total params: 3,136\n",
      "Trainable params: 2,836\n",
      "Non-trainable params: 300\n",
      "_________________________________________________________________\n"
     ]
    }
   ],
   "source": [
    "my_model.summary()"
   ]
  },
  {
   "cell_type": "code",
   "execution_count": null,
   "id": "03334b46",
   "metadata": {},
   "outputs": [],
   "source": [
    "#testing and virtualize"
   ]
  },
  {
   "cell_type": "code",
   "execution_count": 54,
   "id": "593874cd",
   "metadata": {},
   "outputs": [
    {
     "name": "stdout",
     "output_type": "stream",
     "text": [
      "1/1 [==============================] - 0s 83ms/step\n"
     ]
    },
    {
     "data": {
      "text/plain": [
       "array([[0., 0., 1., 0.]], dtype=float32)"
      ]
     },
     "execution_count": 54,
     "metadata": {},
     "output_type": "execute_result"
    }
   ],
   "source": [
    "my_model.predict([[57360,  18375,     0,     0,    60,    66,     0,     1,     0,     1,     0]])\n",
    "#[[6666,21,0,0,60,60,0,1,0,1,0]]\n",
    "#[[51120,445,0,0,70,70,0,1,0,1,0]]\n",
    "#[56174,445,0,0,70,70,0,1,0,1,0]\n",
    "#[[57222,53,54587,53,177,94,83,2,30,1,1]]\n",
    "#[15056,  2222,     0,     0,    60,    60,     0,     1,     0,     1,     0]\n",
    "#[57360,  18375,     0,     0,    60,    66,     0,     1,     0,     1,     0]\n",
    "#\t\t0\t0\t\t\t0\t1\t0\t1\t0"
   ]
  },
  {
   "cell_type": "code",
   "execution_count": 51,
   "id": "e82969a8",
   "metadata": {},
   "outputs": [
    {
     "data": {
      "text/plain": [
       "array([15056,  2222,     0,     0,    60,    60,     0,     1,     0,     1,     0], dtype=int64)"
      ]
     },
     "execution_count": 51,
     "metadata": {},
     "output_type": "execute_result"
    }
   ],
   "source": [
    "X_test[6020]"
   ]
  },
  {
   "cell_type": "code",
   "execution_count": null,
   "id": "0ffba9ae",
   "metadata": {},
   "outputs": [],
   "source": []
  }
 ],
 "metadata": {
  "kernelspec": {
   "display_name": "Python 3 (ipykernel)",
   "language": "python",
   "name": "python3"
  },
  "language_info": {
   "codemirror_mode": {
    "name": "ipython",
    "version": 3
   },
   "file_extension": ".py",
   "mimetype": "text/x-python",
   "name": "python",
   "nbconvert_exporter": "python",
   "pygments_lexer": "ipython3",
   "version": "3.10.5"
  }
 },
 "nbformat": 4,
 "nbformat_minor": 5
}
